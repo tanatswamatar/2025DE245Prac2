{
  "nbformat": 4,
  "nbformat_minor": 0,
  "metadata": {
    "colab": {
      "provenance": [],
      "include_colab_link": true
    },
    "kernelspec": {
      "name": "python3",
      "display_name": "Python 3"
    },
    "language_info": {
      "name": "python"
    }
  },
  "cells": [
    {
      "cell_type": "markdown",
      "metadata": {
        "id": "view-in-github",
        "colab_type": "text"
      },
      "source": [
        "<a href=\"https://colab.research.google.com/github/tanatswamatar/2025DE245Prac2/blob/main/2025DE245Prac2_27124975.ipynb\" target=\"_parent\"><img src=\"https://colab.research.google.com/assets/colab-badge.svg\" alt=\"Open In Colab\"/></a>"
      ]
    },
    {
      "cell_type": "markdown",
      "source": [
        "# Introduction to Python for Data Engineering\n",
        "\n",
        "This notebook demonstrates how to read data from a public API, process it to create useful information, and store the result in an SQLite database.\n",
        "\n",
        "It assumes you have read [this article](https://www.startdataengineering.com/post/python-for-de/#extract--load-read-and-write-data-to-any-system).\n",
        "\n",
        "**Acknowledgment**: Parts of this notebook were developed with the assistance of ChatGPT, an AI language model by OpenAI, to support instructional design and coding tasks related to data engineering concepts."
      ],
      "metadata": {
        "id": "Fok6QWp9znpg"
      }
    },
    {
      "cell_type": "code",
      "execution_count": 1,
      "metadata": {
        "colab": {
          "base_uri": "https://localhost:8080/"
        },
        "id": "vpIOn2KKzVhs",
        "outputId": "40db42f3-f1f6-41b3-eb3a-18c6d02b41a8"
      },
      "outputs": [
        {
          "output_type": "stream",
          "name": "stdout",
          "text": [
            "Requirement already satisfied: requests in /usr/local/lib/python3.11/dist-packages (2.32.3)\n",
            "Requirement already satisfied: charset-normalizer<4,>=2 in /usr/local/lib/python3.11/dist-packages (from requests) (3.4.2)\n",
            "Requirement already satisfied: idna<4,>=2.5 in /usr/local/lib/python3.11/dist-packages (from requests) (3.10)\n",
            "Requirement already satisfied: urllib3<3,>=1.21.1 in /usr/local/lib/python3.11/dist-packages (from requests) (2.5.0)\n",
            "Requirement already satisfied: certifi>=2017.4.17 in /usr/local/lib/python3.11/dist-packages (from requests) (2025.8.3)\n"
          ]
        }
      ],
      "source": [
        "# Install required packages\n",
        "!pip install requests"
      ]
    },
    {
      "cell_type": "code",
      "source": [
        "# Import libraries\n",
        "import requests\n",
        "import sqlite3\n",
        "from datetime import datetime"
      ],
      "metadata": {
        "id": "o2zpVKtTz-8k"
      },
      "execution_count": 2,
      "outputs": []
    },
    {
      "cell_type": "code",
      "source": [
        "# Read data from CoinGecko API\n",
        "target = str(input(\"enter target currency\"))\n",
        "url_usd = \"https://api.coingecko.com/api/v3/simple/price?ids=bitcoin&vs_currencies=usd\"\n",
        "url_target = \"https://api.coingecko.com/api/v3/simple/price?ids=bitcoin&vs_currencies=\"+ str(target)\n",
        "response_usd= requests.get(url_usd)\n",
        "data_usd = response_usd.json()\n",
        "response_target = requests.get(url_target)\n",
        "data_target = response_target.json()\n",
        "#print(url_target)\n",
        "#print(data_target)\n"
      ],
      "metadata": {
        "colab": {
          "base_uri": "https://localhost:8080/"
        },
        "id": "lu4NR0Rf0LKn",
        "outputId": "03efc434-2bd5-4ba7-e9bc-d586196fc62b"
      },
      "execution_count": 3,
      "outputs": [
        {
          "name": "stdout",
          "output_type": "stream",
          "text": [
            "enter target currencymxn\n"
          ]
        }
      ]
    },
    {
      "cell_type": "markdown",
      "source": [
        "We will extract the Bitcoin price in USD and convert it to ZAR using an estimated exchange rate.\n",
        "This is an example of turning raw data into useful **information**."
      ],
      "metadata": {
        "id": "6-vfkALo0P9Q"
      }
    },
    {
      "cell_type": "code",
      "source": [
        "# Extract USD price and apply transformation\n",
        "usd_price = data_usd[\"bitcoin\"][\"usd\"]\n",
        "target_price = data_target[\"bitcoin\"][target]\n",
        "#target_price = convert_usd_to_zar(usd_price)\n",
        "timestamp = datetime.now().isoformat()\n",
        "\n",
        "print(f\"Bitcoin price in USD: {usd_price}\")\n",
        "print(f\"Bitcoin price in {target}: {target_price}\")\n",
        "print(f\"Timestamp: {timestamp}\")\n"
      ],
      "metadata": {
        "colab": {
          "base_uri": "https://localhost:8080/"
        },
        "id": "ecC-Yy-E0a_t",
        "outputId": "85b95905-71e7-49d8-f2ee-08c7f41d677e"
      },
      "execution_count": 4,
      "outputs": [
        {
          "output_type": "stream",
          "name": "stdout",
          "text": [
            "Bitcoin price in USD: 120354\n",
            "Bitcoin price in mxn: 2231222\n",
            "Timestamp: 2025-08-13T10:18:15.584891\n"
          ]
        }
      ]
    },
    {
      "cell_type": "code",
      "source": [
        "# Connect to SQLite database (or create it)\n",
        "conn = sqlite3.connect(\"bitcoin_prices.db\")\n",
        "cursor = conn.cursor()\n",
        "\n",
        "# Create table if it doesn't exist\n",
        "cursor.execute('''\n",
        "    CREATE TABLE IF NOT EXISTS bitcoin_prices (\n",
        "          timestamp TEXT PRIMARY KEY,\n",
        "          btc_price_usd REAL,\n",
        "          target_currency TEXT,\n",
        "          target_currency_price REAL\n",
        "  )\n",
        "  ''')\n",
        "\n",
        "# Insert the new row\n",
        "\n",
        "cursor.execute(\"INSERT INTO bitcoin_prices VALUES (?, ?, ?, ?)\", (timestamp, usd_price, target, target_price))\n",
        "conn.commit()\n",
        "conn.close()"
      ],
      "metadata": {
        "id": "wpimWgg00lgl"
      },
      "execution_count": 5,
      "outputs": []
    },
    {
      "cell_type": "code",
      "source": [
        "# Check if data was successfully written\n",
        "conn = sqlite3.connect(\"bitcoin_prices.db\")\n",
        "cursor = conn.cursor()\n",
        "\n",
        "# Show the last 5 rows\n",
        "rows = cursor.execute(\"SELECT * FROM bitcoin_prices ORDER BY timestamp DESC LIMIT 5\").fetchall()\n",
        "for row in rows:\n",
        "    print(row)\n",
        "\n",
        "conn.close()"
      ],
      "metadata": {
        "id": "URSO8F6x0q1q",
        "colab": {
          "base_uri": "https://localhost:8080/"
        },
        "outputId": "f18f9ec6-bf1b-4c68-c350-3a22d087b71b"
      },
      "execution_count": 6,
      "outputs": [
        {
          "output_type": "stream",
          "name": "stdout",
          "text": [
            "('2025-08-13T10:18:15.584891', 120354.0, 'mxn', 2231222.0)\n",
            "('2025-08-13T10:16:17.687427', 120284.0, 'aed', 442047.0)\n",
            "('2025-08-13T10:13:49.501160', 120222.0, 'hkd', 944268.0)\n",
            "('2025-08-13T10:07:30.432890', 120126.0, 'jpy', 17688880.0)\n",
            "('2025-08-13T10:06:51.701371', 120115.0, 'jpy', 17686075.0)\n"
          ]
        }
      ]
    }
  ]
}